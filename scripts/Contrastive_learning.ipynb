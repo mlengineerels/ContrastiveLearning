{
  "cells": [
    {
      "cell_type": "markdown",
      "source": [
        "## Install Requirements"
      ],
      "metadata": {
        "id": "V0NhbFaLVPzG"
      }
    },
    {
      "cell_type": "code",
      "execution_count": null,
      "metadata": {
        "id": "PjFuUUXiJXhs"
      },
      "outputs": [],
      "source": [
        "!pip install -q accelerate torch\n",
        "!pip install -U scikit-learn\n",
        "!pip install umap-learn\n",
        "!pip install tqdm\n",
        "!pip install pandas matplotlib datashader bokeh holoviews scikit-image colorcet\n",
        "!pip install plotly"
      ]
    },
    {
      "cell_type": "code",
      "execution_count": null,
      "metadata": {
        "id": "aMed5lo2KCHj"
      },
      "outputs": [],
      "source": [
        "import warnings\n",
        "warnings.filterwarnings('ignore')"
      ]
    },
    {
      "cell_type": "markdown",
      "source": [
        "## Import Packages"
      ],
      "metadata": {
        "id": "qm6pA0dSl8cL"
      }
    },
    {
      "cell_type": "code",
      "execution_count": null,
      "metadata": {
        "id": "xYUwHKDLKIJS"
      },
      "outputs": [],
      "source": [
        "# Import neural network training libraries\n",
        "import torch\n",
        "from torch import nn, optim\n",
        "from torch.utils.data import DataLoader\n",
        "from torchvision import transforms\n",
        "\n",
        "# Import basic computation libraries along with data visualization and plotting libraries\n",
        "import numpy as np\n",
        "import pandas as pd\n",
        "import matplotlib.pyplot as plt\n",
        "from tqdm.notebook import tqdm\n",
        "from sklearn.decomposition import PCA\n",
        "import umap\n",
        "import umap.plot\n",
        "import plotly.graph_objs as go\n",
        "import plotly.io as pio\n",
        "pio.renderers.default = 'iframe'\n",
        "\n",
        "# Import our data class which will organize MNIST and provide anchor, positive and negative samples.\n",
        "from mnist_dataset import MNISTDataset"
      ]
    },
    {
      "cell_type": "markdown",
      "source": [
        "## DataLoader"
      ],
      "metadata": {
        "id": "yQrstTtsVabO"
      }
    },
    {
      "cell_type": "code",
      "execution_count": null,
      "metadata": {
        "colab": {
          "base_uri": "https://localhost:8080/"
        },
        "id": "25aBEg4HKKBc",
        "outputId": "449a27f8-19f2-4ec1-d53b-233cbd78abde"
      },
      "outputs": [
        {
          "name": "stderr",
          "output_type": "stream",
          "text": [
            "100%|██████████| 41000/41000 [00:18<00:00, 2243.63it/s]\n",
            "100%|██████████| 1000/1000 [00:00<00:00, 2355.31it/s]\n"
          ]
        }
      ],
      "source": [
        "# Load data from csv\n",
        "data = pd.read_csv('data/train.csv')\n",
        "val_count = 1000\n",
        "# common transformation for both val and train\n",
        "default_transform = transforms.Compose([\n",
        "    transforms.ToPILImage(),\n",
        "    transforms.ToTensor(),\n",
        "    transforms.Normalize(0.5, 0.5)\n",
        "])\n",
        "\n",
        "# Split data into val and train\n",
        "dataset = MNISTDataset(data.iloc[:-val_count], default_transform)\n",
        "val_dataset = MNISTDataset(data.iloc[-val_count:], default_transform)"
      ]
    },
    {
      "cell_type": "code",
      "execution_count": null,
      "metadata": {
        "id": "0pH_9N4vKRKD"
      },
      "outputs": [],
      "source": [
        "# Create torch dataloaders\n",
        "trainLoader = DataLoader(\n",
        "    dataset,\n",
        "    batch_size=16, # feel free to modify this value\n",
        "    shuffle=True,\n",
        "    pin_memory=True,\n",
        "    num_workers=8,\n",
        "    prefetch_factor=100\n",
        ")\n",
        "\n",
        "valLoader = DataLoader(val_dataset,\n",
        "    batch_size=64,\n",
        "    shuffle=True,\n",
        "    pin_memory=True,\n",
        "    num_workers=8,\n",
        "    prefetch_factor=100\n",
        ")"
      ]
    },
    {
      "cell_type": "markdown",
      "source": [
        "## Sample Vizualization\n"
      ],
      "metadata": {
        "id": "A8RZ_lMCVfev"
      }
    },
    {
      "cell_type": "code",
      "execution_count": null,
      "metadata": {
        "colab": {
          "base_uri": "https://localhost:8080/",
          "height": 499
        },
        "id": "C0uQpb_GKUxx",
        "outputId": "048f68a5-b01b-47b0-92db-0df390cc868b"
      },
      "outputs": [
        {
          "output_type": "display_data",
          "data": {
            "text/plain": [
              "<Figure size 900x300 with 4 Axes>"
            ],
            "image/png": "[encoded data removed]"
          },
          "metadata": {}
        },
        {
          "output_type": "display_data",
          "data": {
            "text/plain": [
              "<Figure size 900x300 with 4 Axes>"
            ],
            "image/png": "[encoded data removed]"
          },
          "metadata": {}
        }
      ],
      "source": [
        "# Function to display images with labels\n",
        "def show_images(images, title=''):\n",
        "    num_images = len(images)\n",
        "    fig, axes = plt.subplots(1, num_images, figsize=(9, 3))\n",
        "    for i in range(num_images):\n",
        "        img = np.squeeze(images[i])\n",
        "        axes[i].imshow(img, cmap='gray')\n",
        "        axes[i].axis('off')\n",
        "    fig.suptitle(title)\n",
        "    plt.show()\n",
        "\n",
        "# Visualize some examples\n",
        "for batch_idx, (anchor_images, contrastive_images, distances, labels) in enumerate(trainLoader):\n",
        "    # Convert tensors to numpy arrays\n",
        "    anchor_images = anchor_images.numpy()\n",
        "    contrastive_images = contrastive_images.numpy()\n",
        "    labels = labels.numpy()\n",
        "\n",
        "    # Display some samples from the batch\n",
        "    show_images(anchor_images[:4], title='Anchor Image')\n",
        "    show_images(contrastive_images[:4], title='+/- Example')\n",
        "\n",
        "    # Break after displaying one batch for demonstration\n",
        "    break\n"
      ]
    },
    {
      "cell_type": "markdown",
      "source": [
        "## Creating NN Block\n",
        "### * Representation Learning\n"
      ],
      "metadata": {
        "id": "iHvHrob9Vmk2"
      }
    },
    {
      "cell_type": "code",
      "execution_count": null,
      "metadata": {
        "id": "PsDEAV7ZKyax"
      },
      "outputs": [],
      "source": [
        "# Define a neural network architecture with two convolution layers and two fully connected layers\n",
        "# Input to the network is an MNIST image and Output is a 64 dimensional representation.\n",
        "class Network(nn.Module):\n",
        "    def __init__(self):\n",
        "        super(Network, self).__init__()\n",
        "        self.conv1 = nn.Sequential(\n",
        "            nn.Conv2d(1, 32, 5),\n",
        "            nn.BatchNorm2d(32),\n",
        "            nn.ReLU(inplace=True),\n",
        "            nn.MaxPool2d((2, 2), stride=2),\n",
        "            nn.Dropout(0.3)\n",
        "        )\n",
        "        self.conv2 = nn.Sequential(\n",
        "            nn.Conv2d(32, 64, 5),\n",
        "            nn.BatchNorm2d(64),\n",
        "            nn.ReLU(inplace=True),\n",
        "            nn.MaxPool2d((2, 2), stride=2),\n",
        "            nn.Dropout(0.3)\n",
        "        )\n",
        "        self.linear1 = nn.Sequential(\n",
        "            nn.Linear(64 * 4 * 4, 512),\n",
        "            nn.ReLU(inplace=True),\n",
        "            nn.Dropout(0.3),\n",
        "            nn.Linear(512, 64),\n",
        "        )\n",
        "\n",
        "    def forward(self, x):\n",
        "        x = self.conv1(x) # x: d * 32 * 12 * 12\n",
        "        x = self.conv2(x) # x: d * 64 * 4  * 4\n",
        "        x = x.view(x.size(0), -1) # x: d * (64*4*4)\n",
        "        x = self.linear1(x) # x: d * 64\n",
        "        return x"
      ]
    },
    {
      "cell_type": "markdown",
      "source": [
        "## Contrastive Loss Function"
      ],
      "metadata": {
        "id": "_SElHeHlVsDt"
      }
    },
    {
      "cell_type": "code",
      "execution_count": null,
      "metadata": {
        "id": "Eh_e2joMK68U"
      },
      "outputs": [],
      "source": [
        "# The ideal distance metric for a positive sample is set to 1, for a negative sample it is set to 0\n",
        "class ContrastiveLoss(nn.Module):\n",
        "    def __init__(self):\n",
        "        super(ContrastiveLoss, self).__init__()\n",
        "        self.similarity = nn.CosineSimilarity(dim=-1, eps=1e-7)\n",
        "\n",
        "    def forward(self, anchor, contrastive, distance):\n",
        "        # use cosine similarity from torch to get score\n",
        "        score = self.similarity(anchor, contrastive)\n",
        "        # after cosine apply MSE between distance and score\n",
        "        return nn.MSELoss()(score, distance) #Ensures that the calculated score is close to the ideal distance (1 or 0)"
      ]
    },
    {
      "cell_type": "code",
      "execution_count": null,
      "metadata": {
        "colab": {
          "base_uri": "https://localhost:8080/",
          "height": 35
        },
        "id": "RIcqzjfBLCDO",
        "outputId": "85470333-c6c0-440b-b636-2229d0250d82"
      },
      "outputs": [
        {
          "output_type": "execute_result",
          "data": {
            "text/plain": [
              "'cpu'"
            ],
            "application/vnd.google.colaboratory.intrinsic+json": {
              "type": "string"
            }
          },
          "metadata": {},
          "execution_count": 57
        }
      ],
      "source": [
        "net = Network()\n",
        "\n",
        "device = 'cpu'\n",
        "if torch.cuda.is_available():\n",
        "    device = torch.device('cuda:0')\n",
        "\n",
        "net = net.to(device)\n",
        "device"
      ]
    },
    {
      "cell_type": "code",
      "execution_count": null,
      "metadata": {
        "id": "kXiM01oOLCA-"
      },
      "outputs": [],
      "source": [
        "optimizer = optim.Adam(net.parameters(), lr=0.005)\n",
        "loss_function = ContrastiveLoss()\n",
        "scheduler = optim.lr_scheduler.StepLR(optimizer, step_size=7, gamma=0.3)"
      ]
    },
    {
      "cell_type": "markdown",
      "source": [
        "#### CheckPoint Dir"
      ],
      "metadata": {
        "id": "jxv0mSKdmfuF"
      }
    },
    {
      "cell_type": "code",
      "execution_count": null,
      "metadata": {
        "id": "FTNqRZazLB-l"
      },
      "outputs": [],
      "source": [
        "import os\n",
        "\n",
        "# Define a directory to save the checkpoints\n",
        "checkpoint_dir = 'checkpoints/'\n",
        "\n",
        "# Ensure the directory exists\n",
        "if not os.path.exists(checkpoint_dir):\n",
        "    os.makedirs(checkpoint_dir)"
      ]
    },
    {
      "cell_type": "markdown",
      "source": [
        "## Training Loop"
      ],
      "metadata": {
        "id": "ugWsbHgbVxaQ"
      }
    },
    {
      "cell_type": "code",
      "execution_count": null,
      "metadata": {
        "id": "aWSqSAUiLLs8"
      },
      "outputs": [],
      "source": [
        "def train_model(epoch_count=100):#\n",
        "    net = Network()\n",
        "    lrs = []\n",
        "    losses = []\n",
        "\n",
        "    for epoch in range(epoch_count):\n",
        "        epoch_loss = 0\n",
        "        batches=0\n",
        "        print('epoch -', epoch)\n",
        "        lrs.append(optimizer.param_groups[0]['lr'])\n",
        "        print('learning rate', lrs[-1])\n",
        "\n",
        "        for anchor, contrastive, distance, label in tqdm(trainLoader):\n",
        "            batches += 1\n",
        "            optimizer.zero_grad()\n",
        "            anchor_out = net(anchor.to(device))\n",
        "            contrastive_out = net(contrastive.to(device))\n",
        "            distance = distance.to(torch.float32).to(device)\n",
        "            loss = loss_function(anchor_out, contrastive_out, distance)\n",
        "            epoch_loss += loss\n",
        "            loss.backward()\n",
        "            optimizer.step()\n",
        "\n",
        "        losses.append(epoch_loss.cpu().detach().numpy() / batches)\n",
        "        scheduler.step()\n",
        "        print('epoch_loss', losses[-1])\n",
        "\n",
        "        # Save a checkpoint of the model\n",
        "        checkpoint_path = os.path.join(checkpoint_dir, f'model_epoch_{epoch}.pt')\n",
        "        torch.save(net.state_dict(), checkpoint_path)\n",
        "\n",
        "    return {\n",
        "        \"net\": net,\n",
        "        \"losses\": losses\n",
        "    }"
      ]
    },
    {
      "cell_type": "markdown",
      "source": [
        "### Load the model from checkpoint"
      ],
      "metadata": {
        "id": "V9RfPQRMmm45"
      }
    },
    {
      "cell_type": "code",
      "execution_count": null,
      "metadata": {
        "id": "uMUi3eylLB8F"
      },
      "outputs": [],
      "source": [
        "def load_model_from_checkpoint():\n",
        "    checkpoint = torch.load('checkpoints/model_epoch_99.pt')\n",
        "    net = Network()\n",
        "    net.load_state_dict(checkpoint)\n",
        "    net.eval()\n",
        "    return net"
      ]
    },
    {
      "cell_type": "code",
      "execution_count": null,
      "metadata": {
        "id": "y84B2lsTLB5o"
      },
      "outputs": [],
      "source": [
        "train = True# set to True to run train the model\n",
        "\n",
        "if train:\n",
        "    training_result = train_model()\n",
        "    model = training_result[\"net\"]\n",
        "else:\n",
        "    model = load_model_from_checkpoint()"
      ]
    },
    {
      "cell_type": "markdown",
      "source": [
        "### Results"
      ],
      "metadata": {
        "id": "V9SHTb89mwtN"
      }
    },
    {
      "cell_type": "code",
      "execution_count": null,
      "metadata": {
        "id": "t1Lmh3_tL_6R"
      },
      "outputs": [],
      "source": [
        "from IPython.display import Image\n",
        "\n",
        "if train:\n",
        "    # show loss curve from your training.\n",
        "    plt.plot(training_result[\"losses\"])\n",
        "    plt.show()"
      ]
    },
    {
      "cell_type": "code",
      "execution_count": null,
      "metadata": {
        "colab": {
          "base_uri": "https://localhost:8080/",
          "height": 49,
          "referenced_widgets": [
            "351cc019d5404bcaa72f5c979a2791e3",
            "6aa26d8a7521484fb6fb1087551b16a0",
            "5424564e2f414ae1bc753afc97e4d44f",
            "4d52227c259943e3b57ae144e823ba60",
            "43fa93ced5864952854216769fc7149f",
            "cc6b1ef29f8446539aa7faeaa8b22363",
            "3850717b5dbb4a6a92c80200af9d30e1",
            "fe8a7d9289f5445b809647642b8c3a9f",
            "668a04f2a3f144ad9aae85e64b8a63e8",
            "56578b90de474d5199fa57a155122823",
            "00c0067f40cb445baee90a9aec71cab2"
          ]
        },
        "id": "M0xTExSSL_36",
        "outputId": "9c253452-27c6-42dd-fa69-05b7c07a52bf"
      },
      "outputs": [
        {
          "output_type": "display_data",
          "data": {
            "text/plain": [
              "  0%|          | 0/2563 [00:00<?, ?it/s]"
            ],
            "application/vnd.jupyter.widget-view+json": {
              "version_major": 2,
              "version_minor": 0,
              "model_id": "351cc019d5404bcaa72f5c979a2791e3"
            }
          },
          "metadata": {}
        }
      ],
      "source": [
        "encoded_data = []\n",
        "labels = []\n",
        "\n",
        "with torch.no_grad():\n",
        "    for anchor, _, _, label in tqdm(trainLoader):\n",
        "        output = model(anchor.to(device))\n",
        "        encoded_data.extend(output.cpu().numpy())\n",
        "        labels.extend(label.cpu().numpy())\n",
        "\n",
        "encoded_data = np.array(encoded_data)\n",
        "labels = np.array(labels)"
      ]
    },
    {
      "cell_type": "code",
      "execution_count": null,
      "metadata": {
        "id": "0dVFFB1sL_1h"
      },
      "outputs": [],
      "source": [
        "# Apply PCA to reduce dimensionality of data from 64d -> 3d to make it easier to visualize!\n",
        "pca = PCA(n_components=3)\n",
        "encoded_data_3d = pca.fit_transform(encoded_data)"
      ]
    },
    {
      "cell_type": "code",
      "source": [],
      "metadata": {
        "id": "rz8hbsS5UY5O"
      },
      "execution_count": null,
      "outputs": []
    },
    {
      "cell_type": "code",
      "execution_count": null,
      "metadata": {
        "id": "0PZ2ezwHL_zD"
      },
      "outputs": [],
      "source": [
        "# Initialize notebook mode for Plotly\n",
        "init_notebook_mode(connected=True)\n",
        "\n",
        "# Set Plotly to use the 'colab' renderer\n",
        "pio.renderers.default = 'colab'\n",
        "\n",
        "# Create the 3D scatter plot\n",
        "scatter = go.Scatter3d(\n",
        "    x=encoded_data_3d[:, 0],\n",
        "    y=encoded_data_3d[:, 1],\n",
        "    z=encoded_data_3d[:, 2],\n",
        "    mode='markers',\n",
        "    marker=dict(size=4, color=labels, colorscale='Viridis', opacity=0.8),\n",
        "    text=labels,\n",
        "    hoverinfo='text',\n",
        ")\n",
        "\n",
        "# Create layout\n",
        "layout = go.Layout(\n",
        "    title=\"MNIST Dataset - Encoded and PCA Reduced 3D Scatter Plot\",\n",
        "    scene=dict(\n",
        "        xaxis=dict(title=\"PC1\"),\n",
        "        yaxis=dict(title=\"PC2\"),\n",
        "        zaxis=dict(title=\"PC3\"),\n",
        "    ),\n",
        "    width=1000,\n",
        "    height=750,\n",
        ")\n",
        "\n",
        "# Create figure and add scatter plot\n",
        "fig = go.Figure(data=[scatter], layout=layout)\n",
        "\n",
        "# Show the plot\n",
        "fig.show()"
      ]
    },
    {
      "cell_type": "code",
      "execution_count": null,
      "metadata": {
        "id": "xceN8e3xL_wn"
      },
      "outputs": [],
      "source": [
        "mapper = umap.UMAP( metric='cosine').fit(encoded_data)\n",
        "umap.plot.points(mapper, labels=labels);"
      ]
    },
    {
      "cell_type": "code",
      "execution_count": null,
      "metadata": {
        "id": "wjP-9ejtMudn"
      },
      "outputs": [],
      "source": [
        "mapper = umap.UMAP(random_state=42).fit(encoded_data)\n",
        "umap.plot.points(mapper, labels=labels);"
      ]
    },
    {
      "cell_type": "code",
      "source": [],
      "metadata": {
        "id": "4g7w5nSMgP9T"
      },
      "execution_count": null,
      "outputs": []
    }
  ],
  "metadata": {
    "colab": {
      "machine_shape": "hm",
      "provenance": []
    },
    "kernelspec": {
      "display_name": "Python 3",
      "name": "python3"
    },
    "language_info": {
      "name": "python"
    },
    "widgets": {
      "application/vnd.jupyter.widget-state+json": {
        "351cc019d5404bcaa72f5c979a2791e3": {
          "model_module": "@jupyter-widgets/controls",
          "model_name": "HBoxModel",
          "model_module_version": "1.5.0",
          "state": {
            "_dom_classes": [],
            "_model_module": "@jupyter-widgets/controls",
            "_model_module_version": "1.5.0",
            "_model_name": "HBoxModel",
            "_view_count": null,
            "_view_module": "@jupyter-widgets/controls",
            "_view_module_version": "1.5.0",
            "_view_name": "HBoxView",
            "box_style": "",
            "children": [
              "IPY_MODEL_6aa26d8a7521484fb6fb1087551b16a0",
              "IPY_MODEL_5424564e2f414ae1bc753afc97e4d44f",
              "IPY_MODEL_4d52227c259943e3b57ae144e823ba60"
            ],
            "layout": "IPY_MODEL_43fa93ced5864952854216769fc7149f"
          }
        },
        "6aa26d8a7521484fb6fb1087551b16a0": {
          "model_module": "@jupyter-widgets/controls",
          "model_name": "HTMLModel",
          "model_module_version": "1.5.0",
          "state": {
            "_dom_classes": [],
            "_model_module": "@jupyter-widgets/controls",
            "_model_module_version": "1.5.0",
            "_model_name": "HTMLModel",
            "_view_count": null,
            "_view_module": "@jupyter-widgets/controls",
            "_view_module_version": "1.5.0",
            "_view_name": "HTMLView",
            "description": "",
            "description_tooltip": null,
            "layout": "IPY_MODEL_cc6b1ef29f8446539aa7faeaa8b22363",
            "placeholder": "​",
            "style": "IPY_MODEL_3850717b5dbb4a6a92c80200af9d30e1",
            "value": "100%"
          }
        },
        "5424564e2f414ae1bc753afc97e4d44f": {
          "model_module": "@jupyter-widgets/controls",
          "model_name": "FloatProgressModel",
          "model_module_version": "1.5.0",
          "state": {
            "_dom_classes": [],
            "_model_module": "@jupyter-widgets/controls",
            "_model_module_version": "1.5.0",
            "_model_name": "FloatProgressModel",
            "_view_count": null,
            "_view_module": "@jupyter-widgets/controls",
            "_view_module_version": "1.5.0",
            "_view_name": "ProgressView",
            "bar_style": "success",
            "description": "",
            "description_tooltip": null,
            "layout": "IPY_MODEL_fe8a7d9289f5445b809647642b8c3a9f",
            "max": 2563,
            "min": 0,
            "orientation": "horizontal",
            "style": "IPY_MODEL_668a04f2a3f144ad9aae85e64b8a63e8",
            "value": 2563
          }
        },
        "4d52227c259943e3b57ae144e823ba60": {
          "model_module": "@jupyter-widgets/controls",
          "model_name": "HTMLModel",
          "model_module_version": "1.5.0",
          "state": {
            "_dom_classes": [],
            "_model_module": "@jupyter-widgets/controls",
            "_model_module_version": "1.5.0",
            "_model_name": "HTMLModel",
            "_view_count": null,
            "_view_module": "@jupyter-widgets/controls",
            "_view_module_version": "1.5.0",
            "_view_name": "HTMLView",
            "description": "",
            "description_tooltip": null,
            "layout": "IPY_MODEL_56578b90de474d5199fa57a155122823",
            "placeholder": "​",
            "style": "IPY_MODEL_00c0067f40cb445baee90a9aec71cab2",
            "value": " 2563/2563 [00:15&lt;00:00, 296.76it/s]"
          }
        },
        "43fa93ced5864952854216769fc7149f": {
          "model_module": "@jupyter-widgets/base",
          "model_name": "LayoutModel",
          "model_module_version": "1.2.0",
          "state": {
            "_model_module": "@jupyter-widgets/base",
            "_model_module_version": "1.2.0",
            "_model_name": "LayoutModel",
            "_view_count": null,
            "_view_module": "@jupyter-widgets/base",
            "_view_module_version": "1.2.0",
            "_view_name": "LayoutView",
            "align_content": null,
            "align_items": null,
            "align_self": null,
            "border": null,
            "bottom": null,
            "display": null,
            "flex": null,
            "flex_flow": null,
            "grid_area": null,
            "grid_auto_columns": null,
            "grid_auto_flow": null,
            "grid_auto_rows": null,
            "grid_column": null,
            "grid_gap": null,
            "grid_row": null,
            "grid_template_areas": null,
            "grid_template_columns": null,
            "grid_template_rows": null,
            "height": null,
            "justify_content": null,
            "justify_items": null,
            "left": null,
            "margin": null,
            "max_height": null,
            "max_width": null,
            "min_height": null,
            "min_width": null,
            "object_fit": null,
            "object_position": null,
            "order": null,
            "overflow": null,
            "overflow_x": null,
            "overflow_y": null,
            "padding": null,
            "right": null,
            "top": null,
            "visibility": null,
            "width": null
          }
        },
        "cc6b1ef29f8446539aa7faeaa8b22363": {
          "model_module": "@jupyter-widgets/base",
          "model_name": "LayoutModel",
          "model_module_version": "1.2.0",
          "state": {
            "_model_module": "@jupyter-widgets/base",
            "_model_module_version": "1.2.0",
            "_model_name": "LayoutModel",
            "_view_count": null,
            "_view_module": "@jupyter-widgets/base",
            "_view_module_version": "1.2.0",
            "_view_name": "LayoutView",
            "align_content": null,
            "align_items": null,
            "align_self": null,
            "border": null,
            "bottom": null,
            "display": null,
            "flex": null,
            "flex_flow": null,
            "grid_area": null,
            "grid_auto_columns": null,
            "grid_auto_flow": null,
            "grid_auto_rows": null,
            "grid_column": null,
            "grid_gap": null,
            "grid_row": null,
            "grid_template_areas": null,
            "grid_template_columns": null,
            "grid_template_rows": null,
            "height": null,
            "justify_content": null,
            "justify_items": null,
            "left": null,
            "margin": null,
            "max_height": null,
            "max_width": null,
            "min_height": null,
            "min_width": null,
            "object_fit": null,
            "object_position": null,
            "order": null,
            "overflow": null,
            "overflow_x": null,
            "overflow_y": null,
            "padding": null,
            "right": null,
            "top": null,
            "visibility": null,
            "width": null
          }
        },
        "3850717b5dbb4a6a92c80200af9d30e1": {
          "model_module": "@jupyter-widgets/controls",
          "model_name": "DescriptionStyleModel",
          "model_module_version": "1.5.0",
          "state": {
            "_model_module": "@jupyter-widgets/controls",
            "_model_module_version": "1.5.0",
            "_model_name": "DescriptionStyleModel",
            "_view_count": null,
            "_view_module": "@jupyter-widgets/base",
            "_view_module_version": "1.2.0",
            "_view_name": "StyleView",
            "description_width": ""
          }
        },
        "fe8a7d9289f5445b809647642b8c3a9f": {
          "model_module": "@jupyter-widgets/base",
          "model_name": "LayoutModel",
          "model_module_version": "1.2.0",
          "state": {
            "_model_module": "@jupyter-widgets/base",
            "_model_module_version": "1.2.0",
            "_model_name": "LayoutModel",
            "_view_count": null,
            "_view_module": "@jupyter-widgets/base",
            "_view_module_version": "1.2.0",
            "_view_name": "LayoutView",
            "align_content": null,
            "align_items": null,
            "align_self": null,
            "border": null,
            "bottom": null,
            "display": null,
            "flex": null,
            "flex_flow": null,
            "grid_area": null,
            "grid_auto_columns": null,
            "grid_auto_flow": null,
            "grid_auto_rows": null,
            "grid_column": null,
            "grid_gap": null,
            "grid_row": null,
            "grid_template_areas": null,
            "grid_template_columns": null,
            "grid_template_rows": null,
            "height": null,
            "justify_content": null,
            "justify_items": null,
            "left": null,
            "margin": null,
            "max_height": null,
            "max_width": null,
            "min_height": null,
            "min_width": null,
            "object_fit": null,
            "object_position": null,
            "order": null,
            "overflow": null,
            "overflow_x": null,
            "overflow_y": null,
            "padding": null,
            "right": null,
            "top": null,
            "visibility": null,
            "width": null
          }
        },
        "668a04f2a3f144ad9aae85e64b8a63e8": {
          "model_module": "@jupyter-widgets/controls",
          "model_name": "ProgressStyleModel",
          "model_module_version": "1.5.0",
          "state": {
            "_model_module": "@jupyter-widgets/controls",
            "_model_module_version": "1.5.0",
            "_model_name": "ProgressStyleModel",
            "_view_count": null,
            "_view_module": "@jupyter-widgets/base",
            "_view_module_version": "1.2.0",
            "_view_name": "StyleView",
            "bar_color": null,
            "description_width": ""
          }
        },
        "56578b90de474d5199fa57a155122823": {
          "model_module": "@jupyter-widgets/base",
          "model_name": "LayoutModel",
          "model_module_version": "1.2.0",
          "state": {
            "_model_module": "@jupyter-widgets/base",
            "_model_module_version": "1.2.0",
            "_model_name": "LayoutModel",
            "_view_count": null,
            "_view_module": "@jupyter-widgets/base",
            "_view_module_version": "1.2.0",
            "_view_name": "LayoutView",
            "align_content": null,
            "align_items": null,
            "align_self": null,
            "border": null,
            "bottom": null,
            "display": null,
            "flex": null,
            "flex_flow": null,
            "grid_area": null,
            "grid_auto_columns": null,
            "grid_auto_flow": null,
            "grid_auto_rows": null,
            "grid_column": null,
            "grid_gap": null,
            "grid_row": null,
            "grid_template_areas": null,
            "grid_template_columns": null,
            "grid_template_rows": null,
            "height": null,
            "justify_content": null,
            "justify_items": null,
            "left": null,
            "margin": null,
            "max_height": null,
            "max_width": null,
            "min_height": null,
            "min_width": null,
            "object_fit": null,
            "object_position": null,
            "order": null,
            "overflow": null,
            "overflow_x": null,
            "overflow_y": null,
            "padding": null,
            "right": null,
            "top": null,
            "visibility": null,
            "width": null
          }
        },
        "00c0067f40cb445baee90a9aec71cab2": {
          "model_module": "@jupyter-widgets/controls",
          "model_name": "DescriptionStyleModel",
          "model_module_version": "1.5.0",
          "state": {
            "_model_module": "@jupyter-widgets/controls",
            "_model_module_version": "1.5.0",
            "_model_name": "DescriptionStyleModel",
            "_view_count": null,
            "_view_module": "@jupyter-widgets/base",
            "_view_module_version": "1.2.0",
            "_view_name": "StyleView",
            "description_width": ""
          }
        }
      }
    }
  },
  "nbformat": 4,
  "nbformat_minor": 0
}